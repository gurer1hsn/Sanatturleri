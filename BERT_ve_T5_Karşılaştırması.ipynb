{
  "cells": [
    {
      "cell_type": "markdown",
      "metadata": {
        "id": "view-in-github",
        "colab_type": "text"
      },
      "source": [
        "<a href=\"https://colab.research.google.com/github/gurer1hsn/Sanatturleri/blob/main/BERT_ve_T5_Kar%C5%9F%C4%B1la%C5%9Ft%C4%B1rmas%C4%B1.ipynb\" target=\"_parent\"><img src=\"https://colab.research.google.com/assets/colab-badge.svg\" alt=\"Open In Colab\"/></a>"
      ]
    },
    {
      "cell_type": "code",
      "execution_count": null,
      "metadata": {
        "id": "8O5p1HOnHghT"
      },
      "outputs": [],
      "source": [
        "# Transformers: Hugging Face modelleri için\n",
        "# Datasets: Hazır veri setlerini kolayca yüklemek için\n",
        "# scikit-learn: Accuracy ve F1-score gibi metrikler için\n",
        "!pip install transformers datasets scikit-learn -q\n"
      ]
    },
    {
      "cell_type": "code",
      "execution_count": null,
      "metadata": {
        "colab": {
          "base_uri": "https://localhost:8080/"
        },
        "id": "340siLoYHijT",
        "outputId": "8f30ca1d-bfe6-439d-c335-c8c1e180e900"
      },
      "outputs": [
        {
          "output_type": "stream",
          "name": "stdout",
          "text": [
            "Kullanılan cihaz: cpu\n"
          ]
        }
      ],
      "source": [
        "import torch\n",
        "from transformers import (\n",
        "    BertTokenizer, BertForSequenceClassification,\n",
        "    T5Tokenizer, T5ForConditionalGeneration,\n",
        "    Trainer, TrainingArguments,\n",
        "    Seq2SeqTrainer, Seq2SeqTrainingArguments,\n",
        "    DataCollatorForSeq2Seq\n",
        ")\n",
        "from datasets import load_dataset\n",
        "from sklearn.metrics import accuracy_score, f1_score\n",
        "import pandas as pd\n",
        "import matplotlib.pyplot as plt\n",
        "\n",
        "# GPU varsa onu kullanıyoruz, yoksa CPU\n",
        "device = torch.device(\"cuda\" if torch.cuda.is_available() else \"cpu\")\n",
        "print(\"Kullanılan cihaz:\", device)\n"
      ]
    },
    {
      "cell_type": "code",
      "execution_count": null,
      "metadata": {
        "colab": {
          "base_uri": "https://localhost:8080/"
        },
        "id": "TsACDx7qHjGA",
        "outputId": "fc79c9bb-7fce-4189-aba3-5b09625a31ac"
      },
      "outputs": [
        {
          "output_type": "stream",
          "name": "stdout",
          "text": [
            "Emotion etiketleri: ['sadness', 'joy', 'love', 'anger', 'fear', 'surprise']\n"
          ]
        }
      ],
      "source": [
        "from datasets import load_dataset\n",
        "\n",
        "# Veri kümelerini Hugging Face'ten yükle\n",
        "imdb = load_dataset(\"imdb\")\n",
        "emotion = load_dataset(\"dair-ai/emotion\")\n",
        "\n",
        "# Emotion etiketlerini yazdır\n",
        "print(\"Emotion etiketleri:\", emotion[\"train\"].features[\"label\"].names)\n"
      ]
    },
    {
      "cell_type": "code",
      "execution_count": null,
      "metadata": {
        "id": "UTgkp7k_HjMI"
      },
      "outputs": [],
      "source": [
        "# IMDB eğitim verisini %80 eğitim, %20 doğrulama olarak bölüyoruz\n",
        "imdb_split = imdb[\"train\"].train_test_split(test_size=0.2, seed=42)\n",
        "imdb_train = imdb_split[\"train\"]\n",
        "imdb_valid = imdb_split[\"test\"]\n",
        "imdb_test = imdb[\"test\"]\n"
      ]
    },
    {
      "cell_type": "code",
      "execution_count": null,
      "metadata": {
        "colab": {
          "base_uri": "https://localhost:8080/"
        },
        "id": "FL5n14ETHjPN",
        "outputId": "31adf5f6-8a9e-46d2-ad85-5d72c7f0aac1"
      },
      "outputs": [
        {
          "output_type": "stream",
          "name": "stderr",
          "text": [
            "Some weights of BertForSequenceClassification were not initialized from the model checkpoint at bert-base-uncased and are newly initialized: ['classifier.bias', 'classifier.weight']\n",
            "You should probably TRAIN this model on a down-stream task to be able to use it for predictions and inference.\n"
          ]
        }
      ],
      "source": [
        "# GEREKLİ KÜTÜPHANELERİ İÇE AKTARIYORUZ\n",
        "from transformers import BertTokenizer, BertForSequenceClassification\n",
        "from datasets import load_dataset\n",
        "\n",
        "# BERT MODELİNİ YÜKLÜYORUZ\n",
        "bert_model_name = \"bert-base-uncased\"\n",
        "tokenizer_bert = BertTokenizer.from_pretrained(bert_model_name)\n",
        "model_bert = BertForSequenceClassification.from_pretrained(bert_model_name, num_labels=2)\n"
      ]
    },
    {
      "cell_type": "code",
      "execution_count": null,
      "metadata": {
        "id": "UXbtYUL-HjSe"
      },
      "outputs": [],
      "source": [
        "# Her metni tokenize ediyoruz (maksimum 256 token, padding yapılıyor)\n",
        "def tokenize_bert(example):\n",
        "    return tokenizer_bert(example[\"text\"], padding=\"max_length\", truncation=True, max_length=256)\n"
      ]
    },
    {
      "cell_type": "code",
      "execution_count": null,
      "metadata": {
        "id": "Y5vZpkKiHjV9"
      },
      "outputs": [],
      "source": [
        "# Train, validation ve test verilerini tokenize ediyoruz\n",
        "imdb_train_enc = imdb_train.map(tokenize_bert, batched=True)\n",
        "imdb_valid_enc = imdb_valid.map(tokenize_bert, batched=True)\n",
        "imdb_test_enc = imdb_test.map(tokenize_bert, batched=True)\n",
        "\n",
        "# Verileri PyTorch tensör formatına çeviriyoruz (Trainer böyle bekliyor)\n",
        "for ds in [imdb_train_enc, imdb_valid_enc, imdb_test_enc]:\n",
        "    ds.set_format(type=\"torch\", columns=[\"input_ids\", \"attention_mask\", \"label\"])\n"
      ]
    },
    {
      "cell_type": "code",
      "execution_count": null,
      "metadata": {
        "id": "quAuoVYQHjbc"
      },
      "outputs": [],
      "source": [
        "# Accuracy ve F1-score hesaplayan fonksiyon\n",
        "def compute_metrics(pred):\n",
        "    labels = pred.label_ids                      # Gerçek etiketler\n",
        "    preds = pred.predictions.argmax(-1)          # Tahmin edilen sınıf\n",
        "    acc = accuracy_score(labels, preds)          # Doğruluk\n",
        "    f1 = f1_score(labels, preds, average=\"macro\")# Makro F1\n",
        "    return {\"accuracy\": acc, \"f1\": f1}\n"
      ]
    },
    {
      "cell_type": "code",
      "execution_count": null,
      "metadata": {
        "id": "N7qhRAbVHjeY"
      },
      "outputs": [],
      "source": [
        "from transformers import TrainingArguments\n",
        "\n",
        "training_args_bert = TrainingArguments(\n",
        "    output_dir=\"./bert-imdb\",               # Modelin kaydedileceği klasör\n",
        "    num_train_epochs=3,                     # Epoch sayısı\n",
        "    per_device_train_batch_size=16,         # Batch size\n",
        "    per_device_eval_batch_size=16,\n",
        "    # evaluation_strategy=\"epoch\",            # Her epoch sonunda doğrulama yap # Removed: This parameter is likely not supported in the current transformers version.\n",
        "    # logging_strategy=\"epoch\",               # Logları da her epoch sonunda göster # Removed: This parameter is likely not supported in the current transformers version.\n",
        "    save_strategy=\"no\",                     # Modeli her seferinde kaydetme\n",
        "    report_to=\"none\"                        # W&B gibi servislere gönderme\n",
        ")"
      ]
    },
    {
      "cell_type": "code",
      "execution_count": null,
      "metadata": {
        "id": "Fo-ZL-VxHtpb"
      },
      "outputs": [],
      "source": [
        "from transformers import Trainer\n",
        "\n",
        "trainer_bert = Trainer(\n",
        "    model=model_bert,                       # BERT modeli\n",
        "    args=training_args_bert,                # Eğitim ayarları\n",
        "    train_dataset=imdb_train_enc,           # Eğitim verisi\n",
        "    eval_dataset=imdb_valid_enc,            # Doğrulama verisi\n",
        "    compute_metrics=compute_metrics         # Değerlendirme fonksiyonu\n",
        ")\n"
      ]
    },
    {
      "cell_type": "code",
      "execution_count": null,
      "metadata": {
        "id": "qA1Eq6z5HtlU"
      },
      "outputs": [],
      "source": [
        "# Modeli eğitiyoruz\n",
        "num_train_epochs=1  # TrainingArguments içinde değiştir\n",
        "\n"
      ]
    },
    {
      "cell_type": "code",
      "execution_count": null,
      "metadata": {
        "colab": {
          "base_uri": "https://localhost:8080/",
          "height": 75
        },
        "id": "lRcVd9GcHtej",
        "outputId": "a66e18d0-9d5a-46ee-cd4c-68901a145e4d"
      },
      "outputs": [
        {
          "output_type": "display_data",
          "data": {
            "text/plain": [
              "<IPython.core.display.HTML object>"
            ],
            "text/html": [
              "\n",
              "    <div>\n",
              "      \n",
              "      <progress value='7' max='7' style='width:300px; height:20px; vertical-align: middle;'></progress>\n",
              "      [7/7 01:17]\n",
              "    </div>\n",
              "    "
            ]
          },
          "metadata": {}
        },
        {
          "output_type": "stream",
          "name": "stdout",
          "text": [
            "{'eval_loss': 0.7246230244636536, 'eval_model_preparation_time': 0.0117, 'eval_accuracy': 0.13, 'eval_f1': 0.11504424778761062, 'eval_runtime': 109.9937, 'eval_samples_per_second': 0.909, 'eval_steps_per_second': 0.064}\n"
          ]
        }
      ],
      "source": [
        "# İlk 100 veriyi seçiyoruz\n",
        "small_test = imdb_test_enc.select(range(100))\n",
        "\n",
        "# Modelin küçük test verisi üzerindeki performansını ölçüyoruz\n",
        "results = trainer_bert.evaluate(small_test)\n",
        "\n",
        "# Sonuçları yazdırıyoruz (accuracy, f1 gibi metrikler)\n",
        "print(results)\n"
      ]
    },
    {
      "cell_type": "code",
      "execution_count": null,
      "metadata": {
        "colab": {
          "base_uri": "https://localhost:8080/",
          "height": 410
        },
        "id": "98IJZ6ZVHzCy",
        "outputId": "0afb6ebc-76e6-4bac-d82a-973fb380b9bb"
      },
      "outputs": [
        {
          "output_type": "display_data",
          "data": {
            "text/plain": [
              "<Figure size 600x400 with 1 Axes>"
            ],
            "image/png": "[encoded data removed]"
          },
          "metadata": {}
        }
      ],
      "source": [
        "import pandas as pd\n",
        "import matplotlib.pyplot as plt\n",
        "\n",
        "# Eğitim sırasında loglanan verileri DataFrame'e çeviriyoruz\n",
        "logs = pd.DataFrame(trainer_bert.state.log_history)\n",
        "\n",
        "# Sadece doğrulama (eval) satırlarını alıyoruz\n",
        "logs = logs[logs[\"eval_loss\"].notna()]\n",
        "\n",
        "# Eğer epoch sütunu yoksa, dict içinden manuel çek\n",
        "if \"epoch\" not in logs.columns:\n",
        "    logs[\"epoch\"] = [entry.get(\"epoch\", None) for entry in trainer_bert.state.log_history if \"eval_loss\" in entry]\n",
        "\n",
        "# Grafik çizimi\n",
        "plt.figure(figsize=(6, 4))\n",
        "plt.plot(logs[\"epoch\"], logs[\"eval_loss\"], label=\"Doğrulama Kaybı\")\n",
        "if \"eval_accuracy\" in logs.columns:\n",
        "    plt.plot(logs[\"epoch\"], logs[\"eval_accuracy\"], label=\"Doğrulama Doğruluğu\")\n",
        "plt.title(\"BERT - IMDB Eğitim Grafiği\")\n",
        "plt.xlabel(\"Epoch\")\n",
        "plt.legend()\n",
        "plt.show()\n"
      ]
    },
    {
      "cell_type": "code",
      "execution_count": null,
      "metadata": {
        "colab": {
          "base_uri": "https://localhost:8080/"
        },
        "id": "dYK8mN5FHy8N",
        "outputId": "325c166c-2c45-4f1b-9b86-ca7a7876ac18"
      },
      "outputs": [
        {
          "output_type": "stream",
          "name": "stderr",
          "text": [
            "You are using the default legacy behaviour of the <class 'transformers.models.t5.tokenization_t5.T5Tokenizer'>. This is expected, and simply means that the `legacy` (previous) behavior will be used so nothing changes for you. If you want to use the new behaviour, set `legacy=False`. This should only be set if you understand what it means, and thoroughly read the reason why this was added as explained in https://github.com/huggingface/transformers/pull/24565\n"
          ]
        }
      ],
      "source": [
        "t5_model_name = \"t5-base\"\n",
        "tokenizer_t5 = T5Tokenizer.from_pretrained(t5_model_name)\n",
        "model_t5 = T5ForConditionalGeneration.from_pretrained(t5_model_name)\n"
      ]
    },
    {
      "cell_type": "code",
      "execution_count": null,
      "metadata": {
        "id": "_f9507qTHy4X"
      },
      "outputs": [],
      "source": [
        "# 0 -> \"olumsuz\", 1 -> \"olumlu\"\n",
        "label_map = {0: \"negative\", 1: \"positive\"}\n",
        "\n",
        "# T5 için metni giriş, etiketleri string olarak hedef olarak veriyoruz\n",
        "def preprocess_t5(examples):\n",
        "    input_texts = examples[\"text\"]\n",
        "   # Her örnek için 'etiket'in bir liste olup olmadığını kontrol edin ve eğer öyleyse, ilk öğeyi alın\n",
        "    labels = [example_label[0] if isinstance(example_label, list) else example_label\n",
        "              for example_label in examples[\"label\"]]\n",
        "    target_texts = [label_map[int(label)] for label in labels] # Etiketleri int'e dönüştür\n",
        "    # Girdi metni tokenize edilir\n",
        "    input_enc = tokenizer_t5(input_texts, max_length=256, padding=\"max_length\", truncation=True)\n",
        "    # Çıktı (label) metni tokenize edilir\n",
        "    with tokenizer_t5.as_target_tokenizer():\n",
        "        target_enc = tokenizer_t5(target_texts, max_length=5, padding=\"max_length\", truncation=True)\n",
        "    input_enc[\"labels\"] = target_enc[\"input_ids\"]\n",
        "    return input_enc\n",
        "\n",
        "# Tokenizasyonu veri kümelerine uygula\n",
        "imdb_train_t5 = imdb_train.map(preprocess_t5, batched=True)\n",
        "imdb_valid_t5 = imdb_valid.map(preprocess_t5, batched=True)\n",
        "imdb_test_t5 = imdb_test.map(preprocess_t5, batched=True)"
      ]
    },
    {
      "cell_type": "code",
      "execution_count": null,
      "metadata": {
        "id": "jTX_BjILcma2"
      },
      "outputs": [],
      "source": [
        "from transformers import T5Tokenizer, T5ForConditionalGeneration\n",
        "\n",
        "tokenizer_t5 = T5Tokenizer.from_pretrained(\"t5-base\")\n",
        "model_t5 = T5ForConditionalGeneration.from_pretrained(\"t5-base\")\n"
      ]
    },
    {
      "cell_type": "code",
      "execution_count": null,
      "metadata": {
        "id": "8MKg8Ch4H40B"
      },
      "outputs": [],
      "source": [
        "from transformers import DataCollatorForSeq2Seq # DataCollatorForSeq2Seq sınıfını içe aktar\n",
        "data_collator_t5 = DataCollatorForSeq2Seq(tokenizer=tokenizer_t5, model=model_t5) # Beklenmeyen girinti kaldırıldı"
      ]
    },
    {
      "cell_type": "code",
      "execution_count": null,
      "metadata": {
        "id": "uv6FLXCoH7RZ"
      },
      "outputs": [],
      "source": [
        "def compute_metrics_t5(eval_pred):\n",
        "    predictions, labels = eval_pred\n",
        "    decoded_preds = tokenizer_t5.batch_decode(predictions, skip_special_tokens=True)\n",
        "    labels[labels == -100] = tokenizer_t5.pad_token_id\n",
        "    decoded_labels = tokenizer_t5.batch_decode(labels, skip_special_tokens=True)\n",
        "    decoded_preds = [p.strip() for p in decoded_preds]\n",
        "    decoded_labels = [l.strip() for l in decoded_labels]\n",
        "    acc = accuracy_score(decoded_labels, decoded_preds)\n",
        "    f1 = f1_score(decoded_labels, decoded_preds, average=\"macro\")\n",
        "    return {\"accuracy\": acc, \"f1\": f1}\n"
      ]
    },
    {
      "cell_type": "code",
      "execution_count": null,
      "metadata": {
        "id": "FC3QSdl1c4UZ"
      },
      "outputs": [],
      "source": [
        "from transformers import Seq2SeqTrainingArguments\n"
      ]
    },
    {
      "cell_type": "code",
      "execution_count": null,
      "metadata": {
        "id": "ywZJvdIlH-Th"
      },
      "outputs": [],
      "source": [
        "from transformers import Seq2SeqTrainingArguments\n",
        "\n",
        "training_args_t5 = Seq2SeqTrainingArguments(\n",
        "    output_dir=\"./t5-imdb\",\n",
        "    num_train_epochs=3,\n",
        "    per_device_train_batch_size=16,\n",
        "    per_device_eval_batch_size=16,\n",
        "    predict_with_generate=True,  # T5 modeline özel\n",
        "    save_strategy=\"no\",\n",
        "    report_to=\"none\"\n",
        ")\n"
      ]
    },
    {
      "cell_type": "code",
      "execution_count": null,
      "metadata": {
        "id": "bjd7owQsIAAJ"
      },
      "outputs": [],
      "source": [
        "from transformers import Seq2SeqTrainingArguments\n",
        "\n",
        "training_args_t5 = Seq2SeqTrainingArguments(\n",
        "    output_dir=\"./t5-results\",\n",
        "    num_train_epochs=3,\n",
        "    per_device_train_batch_size=16,\n",
        "    per_device_eval_batch_size=16,\n",
        "    predict_with_generate=True,\n",
        "    logging_dir=\"./logs\",\n",
        "    logging_strategy=\"epoch\",\n",
        "    save_strategy=\"no\",\n",
        "    report_to=\"none\"\n",
        ")\n"
      ]
    },
    {
      "cell_type": "code",
      "execution_count": null,
      "metadata": {
        "id": "aecikc0WIAup"
      },
      "outputs": [],
      "source": [
        "def preprocess_emotion_t5(example):\n",
        "    input_text = example[\"text\"]\n",
        "    target_text = emotion_label_map[int(example[\"label\"])]\n",
        "\n",
        "    # Girdi metni tokenize edilir\n",
        "    input_enc = tokenizer_t5(input_text, max_length=128, padding=\"max_length\", truncation=True)\n",
        "\n",
        "    # Çıktı metni tokenize edilir (etiketi metin olarak)\n",
        "    with tokenizer_t5.as_target_tokenizer():\n",
        "        target_enc = tokenizer_t5(target_text, max_length=5, padding=\"max_length\", truncation=True)\n",
        "\n",
        "    # labels'ı liste değil, tensor olarak döndür\n",
        "    input_enc[\"labels\"] = target_enc[\"input_ids\"]\n",
        "    return input_enc\n"
      ]
    },
    {
      "cell_type": "code",
      "execution_count": null,
      "metadata": {
        "id": "MkrXRhzHIBQA"
      },
      "outputs": [],
      "source": [
        "def preprocess_t5(examples):\n",
        "    input_texts = examples[\"text\"]\n",
        "    # Her örnek için 'etiket'in bir liste olup olmadığını kontrol edin\n",
        "    # ve eğer öyleyse, ilk öğeyi alın, değilse olduğu gibi bırakın\n",
        "    labels = [example_label[0] if isinstance(example_label, list) else example_label\n",
        "              for example_label in examples[\"label\"]]\n",
        "    target_texts = [label_map[int(label)] for label in labels] # Etiketleri int'e dönüştür\n",
        "    # Girdi metni tokenize edilir\n",
        "    input_enc = tokenizer_t5(input_texts, max_length=256, padding=\"max_length\", truncation=True)\n",
        "    # Çıktı (label) metni tokenize edilir\n",
        "    with tokenizer_t5.as_target_tokenizer():\n",
        "        target_enc = tokenizer_t5(target_texts, max_length=5, padding=\"max_length\", truncation=True)\n",
        "    # \"labels\" anahtarının değerini target_enc[\"input_ids\"] olarak ayarlayın\n",
        "    input_enc[\"labels\"] = target_enc[\"input_ids\"]\n",
        "    return input_enc"
      ]
    },
    {
      "cell_type": "code",
      "execution_count": null,
      "metadata": {
        "colab": {
          "base_uri": "https://localhost:8080/"
        },
        "id": "jaa73nn1IBGq",
        "outputId": "d2197a3c-6ffc-4632-8806-8bccfb693626"
      },
      "outputs": [
        {
          "output_type": "stream",
          "name": "stdout",
          "text": [
            "Eğitim: 16000\n",
            "Doğrulama: 2000\n",
            "Test: 2000\n"
          ]
        },
        {
          "output_type": "execute_result",
          "data": {
            "text/plain": [
              "{'text': 'i didnt feel humiliated', 'label': 0}"
            ]
          },
          "metadata": {},
          "execution_count": 28
        }
      ],
      "source": [
        "# Eğitim, doğrulama ve test kümelerini alıyoruz\n",
        "emotion_train = emotion[\"train\"]\n",
        "emotion_valid = emotion[\"validation\"]\n",
        "emotion_test = emotion[\"test\"]\n",
        "\n",
        "# Kaç örnek var kontrol edelim\n",
        "print(\"Eğitim:\", len(emotion_train))\n",
        "print(\"Doğrulama:\", len(emotion_valid))\n",
        "print(\"Test:\", len(emotion_test))\n",
        "\n",
        "# İlk veri örneğini görelim\n",
        "emotion_train[0]\n"
      ]
    },
    {
      "cell_type": "code",
      "execution_count": null,
      "metadata": {
        "colab": {
          "base_uri": "https://localhost:8080/"
        },
        "id": "vofKstzYIA_N",
        "outputId": "dd92571c-a6a8-4926-c50f-4cc9418580e2"
      },
      "outputs": [
        {
          "output_type": "stream",
          "name": "stderr",
          "text": [
            "Some weights of BertForSequenceClassification were not initialized from the model checkpoint at bert-base-uncased and are newly initialized: ['classifier.bias', 'classifier.weight']\n",
            "You should probably TRAIN this model on a down-stream task to be able to use it for predictions and inference.\n"
          ]
        }
      ],
      "source": [
        "# 6 sınıflı bir problem olduğu için num_labels=6 olarak tanımlıyoruz\n",
        "model_bert_emotion = BertForSequenceClassification.from_pretrained(\"bert-base-uncased\", num_labels=6)\n"
      ]
    },
    {
      "cell_type": "code",
      "execution_count": null,
      "metadata": {
        "id": "DdWALPnkIjJI"
      },
      "outputs": [],
      "source": [
        "# Tokenizer daha önce yüklenmişti: tokenizer_bert\n",
        "def tokenize_emotion(example):\n",
        "    return tokenizer_bert(example[\"text\"], padding=\"max_length\", truncation=True, max_length=128)\n"
      ]
    },
    {
      "cell_type": "code",
      "execution_count": null,
      "metadata": {
        "id": "UV7Wo3NKIjA1"
      },
      "outputs": [],
      "source": [
        "# Veri kümelerine tokenizer'ı uyguluyoruz\n",
        "emotion_train_enc = emotion_train.map(tokenize_emotion, batched=True)\n",
        "emotion_valid_enc = emotion_valid.map(tokenize_emotion, batched=True)\n",
        "emotion_test_enc = emotion_test.map(tokenize_emotion, batched=True)\n",
        "\n",
        "# PyTorch tensör formatına çevir\n",
        "for ds in [emotion_train_enc, emotion_valid_enc, emotion_test_enc]:\n",
        "    ds.set_format(type=\"torch\", columns=[\"input_ids\", \"attention_mask\", \"label\"])\n"
      ]
    },
    {
      "cell_type": "code",
      "execution_count": null,
      "metadata": {
        "id": "iUVJTIvIIiz0"
      },
      "outputs": [],
      "source": [
        "training_args_bert_emotion = TrainingArguments(\n",
        "    output_dir=\"./bert-emotion\",\n",
        "    num_train_epochs=3,\n",
        "    per_device_train_batch_size=16,\n",
        "    per_device_eval_batch_size=16,\n",
        "    # Remove evaluation_strategy and logging_strategy\n",
        "    # evaluation_strategy=\"epoch\",\n",
        "    # logging_strategy=\"epoch\",\n",
        "    save_strategy=\"no\",\n",
        "    report_to=\"none\"\n",
        ")"
      ]
    },
    {
      "cell_type": "code",
      "execution_count": null,
      "metadata": {
        "colab": {
          "background_save": true,
          "base_uri": "https://localhost:8080/",
          "height": 75
        },
        "id": "gwvdU8ClIirU",
        "outputId": "73df4214-499e-46a7-a831-dd00ca5d9ad7"
      },
      "outputs": [
        {
          "output_type": "display_data",
          "data": {
            "text/plain": [
              "<IPython.core.display.HTML object>"
            ],
            "text/html": [
              "\n",
              "    <div>\n",
              "      \n",
              "      <progress value='26' max='189' style='width:300px; height:20px; vertical-align: middle;'></progress>\n",
              "      [ 26/189 08:41 < 58:58, 0.05 it/s, Epoch 0.40/3]\n",
              "    </div>\n",
              "    <table border=\"1\" class=\"dataframe\">\n",
              "  <thead>\n",
              " <tr style=\"text-align: left;\">\n",
              "      <th>Step</th>\n",
              "      <th>Training Loss</th>\n",
              "    </tr>\n",
              "  </thead>\n",
              "  <tbody>\n",
              "  </tbody>\n",
              "</table><p>"
            ]
          },
          "metadata": {}
        }
      ],
      "source": [
        "# Belirli sayıda örnek içeren alt veri kümeleri oluşturulur\n",
        "small_train = emotion_train_enc.select(range(1000))  # Eğitim için ilk 1000 örnek\n",
        "small_valid = emotion_valid_enc.select(range(300))   # Doğrulama için ilk 300 örnek\n",
        "\n",
        "# Eğitim sürecini yönetecek Trainer nesnesi oluşturulur\n",
        "trainer_bert_emotion = Trainer(\n",
        "    model=model_bert_emotion,                         # Kullanılacak model\n",
        "    args=training_args_bert_emotion,                  # Eğitim konfigürasyonu\n",
        "    train_dataset=small_train,                        # Eğitim veri kümesi\n",
        "    eval_dataset=small_valid,                         # Doğrulama veri kümesi\n",
        "    compute_metrics=compute_metrics                   # Değerlendirme metrikleri\n",
        ")\n",
        "\n",
        "# Modelin eğitimi başlatılır\n",
        "trainer_bert_emotion.train()\n"
      ]
    },
    {
      "cell_type": "code",
      "execution_count": null,
      "metadata": {
        "id": "pBJXZeAvItNb"
      },
      "outputs": [],
      "source": [
        "# Test seti üzerinde değerlendirme yapıyoruz\n",
        "trainer_bert_emotion.evaluate(emotion_test_enc)\n"
      ]
    },
    {
      "cell_type": "code",
      "execution_count": null,
      "metadata": {
        "colab": {
          "background_save": true
        },
        "id": "KCx8XDVVItKw"
      },
      "outputs": [],
      "source": [
        "# Eğitim loglarını görselleştir\n",
        "log_emotion_bert = pd.DataFrame(trainer_bert_emotion.state.log_history)\n",
        "log_emotion_bert = log_emotion_bert[log_emotion_bert.eval_loss.notna()]\n",
        "\n",
        "plt.figure(figsize=(6, 4))\n",
        "plt.plot(log_emotion_bert[\"epoch\"], log_emotion_bert[\"eval_loss\"], label=\"Doğrulama Kaybı\")\n",
        "plt.plot(log_emotion_bert[\"epoch\"], log_emotion_bert[\"eval_accuracy\"], label=\"Doğrulama Doğruluğu\")\n",
        "plt.title(\"BERT - Emotion Eğitim Grafiği\")\n",
        "plt.xlabel(\"Epoch\")\n",
        "plt.legend()\n",
        "plt.show()\n"
      ]
    },
    {
      "cell_type": "code",
      "execution_count": null,
      "metadata": {
        "id": "JN573zhWItHZ"
      },
      "outputs": [],
      "source": [
        "# Label mapping: sayısal -> string\n",
        "emotion_label_map = {\n",
        "    0: \"sadness\",\n",
        "    1: \"joy\",\n",
        "    2: \"love\",\n",
        "    3: \"anger\",\n",
        "    4: \"fear\",\n",
        "    5: \"surprise\"\n",
        "}\n",
        "\n",
        "# Tokenizasyon fonksiyonu (girdi metni + hedef etiket string olarak)\n",
        "def preprocess_emotion_t5(example):\n",
        "    input_text = example[\"text\"]\n",
        "    target_text = emotion_label_map[int(example[\"label\"])]\n",
        "    # Girdi metni tokenizasyonu\n",
        "    input_enc = tokenizer_t5(input_text, max_length=128, padding=\"max_length\", truncation=True)\n",
        "    # Çıktı metni tokenizasyonu\n",
        "    with tokenizer_t5.as_target_tokenizer():\n",
        "        target_enc = tokenizer_t5(target_text, max_length=5, padding=\"max_length\", truncation=True)\n",
        "    input\n"
      ]
    },
    {
      "cell_type": "code",
      "execution_count": null,
      "metadata": {
        "id": "3ChC9dNKItDF"
      },
      "outputs": [],
      "source": [
        "from datasets import load_dataset\n",
        "\n",
        "# Emotion veri kümesini Hugging Face üzerinden yükle\n",
        "emotion_dataset = load_dataset(\"emotion\")\n",
        "\n",
        "# Eğitim, doğrulama ve test kümelerini ayır\n",
        "emotion_train = emotion_dataset[\"train\"]\n",
        "emotion_valid = emotion_dataset[\"validation\"]\n",
        "emotion_test = emotion_dataset[\"test\"]\n"
      ]
    },
    {
      "cell_type": "code",
      "execution_count": null,
      "metadata": {
        "id": "59sVjrzsIs7a"
      },
      "outputs": [],
      "source": [
        "from transformers import Seq2SeqTrainingArguments\n",
        "\n",
        "training_args_t5_emotion = Seq2SeqTrainingArguments(\n",
        "    output_dir=\"./t5-emotion\",\n",
        "    num_train_epochs=3,\n",
        "    per_device_train_batch_size=16,\n",
        "    per_device_eval_batch_size=16,\n",
        "    # Remove 'evaluation_strategy' and 'logging_strategy'\n",
        "    # They are likely deprecated or integrated differently now.\n",
        "    # evaluation_strategy=\"epoch\",\n",
        "    # logging_strategy=\"epoch\",\n",
        "    predict_with_generate=True,\n",
        "    save_strategy=\"no\",\n",
        "    report_to=\"none\"\n",
        ")"
      ]
    },
    {
      "cell_type": "code",
      "execution_count": null,
      "metadata": {
        "id": "St0Ym54SI025"
      },
      "outputs": [],
      "source": [
        "# Other imports...\n",
        "from transformers import Seq2SeqTrainer, Seq2SeqTrainingArguments, DataCollatorForSeq2Seq, T5Tokenizer, T5ForConditionalGeneration  # Import T5Tokenizer and T5ForConditionalGeneration\n",
        "\n",
        "# Initialize the T5 tokenizer and model\n",
        "t5_model_name = \"t5-base\"\n",
        "tokenizer_t5 = T5Tokenizer.from_pretrained(t5_model_name)\n",
        "model_t5 = T5ForConditionalGeneration.from_pretrained(t5_model_name)\n",
        "\n",
        "# Label mapping: sayısal -> string\n",
        "emotion_label_map = {\n",
        "    0: \"sadness\",\n",
        "    1: \"joy\",\n",
        "    2: \"love\",\n",
        "    3: \"anger\",\n",
        "    4: \"fear\",\n",
        "    5: \"surprise\"\n",
        "}\n",
        "\n",
        "# Tokenizasyon fonksiyonu (girdi metni + hedef etiket string olarak)\n",
        "def preprocess_emotion_t5(example):\n",
        "    input_text = example[\"text\"]\n",
        "    target_text = emotion_label_map[int(example[\"label\"])]\n",
        "    # Girdi metni tokenizasyonu\n",
        "    input_enc = tokenizer_t5(input_text, max_length=128, padding=\"max_length\", truncation=True)\n",
        "    # Çıktı metni tokenizasyonu\n",
        "    with tokenizer_t5.as_target_tokenizer():\n",
        "        target_enc = tokenizer_t5(target_text, max_length=5, padding=\"max_length\", truncation=True)\n",
        "    # \"labels\""
      ]
    },
    {
      "cell_type": "code",
      "execution_count": null,
      "metadata": {
        "id": "RvkF2lv5gSoy"
      },
      "outputs": [],
      "source": [
        "# Label mapping: sayısal -> string\n",
        "emotion_label_map = {\n",
        "    0: \"sadness\",\n",
        "    1: \"joy\",\n",
        "    2: \"love\",\n",
        "    3: \"anger\",\n",
        "    4: \"fear\",\n",
        "    5: \"surprise\"\n",
        "}\n",
        "\n",
        "# Tokenizasyon fonksiyonu (girdi metni + hedef etiket string olarak)\n",
        "def preprocess_emotion_t5(examples):\n",
        "    input_texts = examples[\"text\"]\n",
        "    labels = [example_label[0] if isinstance(example_label, list) else example_label\n",
        "              for example_label in examples[\"label\"]]\n",
        "    target_texts = [emotion_label_map[int(label)] for label in labels]\n",
        "\n",
        "    input_encodings = tokenizer_t5(input_texts, max_length=128, padding=\"max_length\", truncation=True)\n",
        "\n",
        "    with tokenizer_t5.as_target_tokenizer():\n",
        "        target_encodings = tokenizer_t5(target_texts, max_length=5, padding=\"max_length\", truncation=True)\n",
        "\n",
        "    # Ensure 'labels' is always a list of lists (even for single examples)\n",
        "    input_encodings[\"labels\"] = [target_encoding for target_encoding in target_encodings[\"input_ids\"]]\n",
        "\n",
        "    return input_encodings"
      ]
    },
    {
      "cell_type": "code",
      "source": [
        "from datasets import load_dataset\n",
        "\n",
        "# Emotion veri kümesini Hugging Face üzerinden yükle\n",
        "emotion_dataset = load_dataset(\"emotion\")\n",
        "\n",
        "# Eğitim, doğrulama ve test kümelerini ayır\n",
        "emotion_train = emotion_dataset[\"train\"]\n",
        "emotion_valid = emotion_dataset[\"validation\"]\n",
        "emotion_test = emotion_dataset[\"test\"]"
      ],
      "metadata": {
        "id": "T3kJ6L96fKt2"
      },
      "execution_count": null,
      "outputs": []
    },
    {
      "cell_type": "code",
      "execution_count": null,
      "metadata": {
        "id": "g3X4phXGI00L"
      },
      "outputs": [],
      "source": [
        "# Other imports...\n",
        "from transformers import Seq2SeqTrainer, Seq2SeqTrainingArguments, DataCollatorForSeq2Seq, T5Tokenizer, T5ForConditionalGeneration  # Import T5Tokenizer and T5ForConditionalGeneration\n",
        "from sklearn.metrics import accuracy_score, f1_score # Import accuracy_score and f1_score\n",
        "\n",
        "# Initialize the T5 tokenizer and model\n",
        "t5_model_name = \"t5-base\"\n",
        "tokenizer_t5 = T5Tokenizer.from_pretrained(t5_model_name)\n",
        "model_t5 = T5ForConditionalGeneration.from_pretrained(t5_model_name)\n",
        "\n",
        "# ... (rest of your code) ...\n",
        "\n",
        "# In the cell where you define the trainer_t5_emotion:\n",
        "\n",
        "# Data collator for T5\n",
        "data_collator_t5_emotion = DataCollatorForSeq2Seq(tokenizer=tokenizer_t5, model=model_t5)\n",
        "\n",
        "# Apply preprocessing to datasets\n",
        "emotion_train_enc = emotion_train.map(preprocess_emotion_t5, batched=True)\n",
        "emotion_valid_enc = emotion_valid.map(preprocess_emotion_t5, batched=True)\n",
        "emotion_test_enc = emotion_test.map(preprocess_emotion_t5, batched=True)\n",
        "\n",
        "# Set format for datasets\n",
        "for ds in [emotion_train_enc, emotion_valid_enc, emotion_test_enc]:\n",
        "    ds.set_format(type=\"torch\", columns=[\"input_ids\", \"attention_mask\", \"labels\"])\n",
        "\n",
        "# Trainer'ı oluştur ve eğit\n",
        "trainer_t5_emotion = Seq2SeqTrainer(\n",
        "    model=model_t5,\n",
        "    args=training_args_t5_emotion,\n",
        "    train_dataset=emotion_train_enc,\n",
        "    eval_dataset=emotion_valid_enc,\n",
        "    data_collator=data_collator_t5_emotion,\n",
        "    compute_metrics=compute_metrics_t5  # compute_metrics_t5 fonksiyonunu ekledik\n",
        ")\n",
        "\n",
        "trainer_t5_emotion.train()"
      ]
    },
    {
      "cell_type": "code",
      "execution_count": null,
      "metadata": {
        "id": "mLB9vGOVI0w_"
      },
      "outputs": [],
      "source": [
        "import pandas as pd\n",
        "import matplotlib.pyplot as plt\n",
        "\n",
        "# Eğitim loglarını DataFrame'e çevir\n",
        "log_emotion_t5 = pd.DataFrame(trainer_t5_emotion.state.log_history)\n",
        "\n",
        "# Check if 'eval_loss' is in the columns before filtering\n",
        "if 'eval_loss' in log_emotion_t5.columns:\n",
        "    log_emotion_t5 = log_emotion_t5[log_emotion_t5.eval_loss.notna()]\n",
        "else:\n",
        "    # Handle the case where 'eval_loss' is not present\n",
        "    # You might want to print a message or skip the plotting\n",
        "    print(\"Warning: 'eval_loss' not found in the logs. Skipping plotting.\")\n",
        "\n",
        "# Eğitim kaybı ve doğruluğu grafiği\n",
        "# Only plot if 'eval_loss' was found\n",
        "if 'eval_loss' in log_emotion_t5.columns:\n",
        "    plt.figure(figsize=(6, 4))\n",
        "    plt.plot(log_emotion_t5[\"epoch\"], log_emotion_t5[\"eval_loss\"], label=\"Doğrulama Kaybı\")\n",
        "    # Check if eval_accuracy is in the dataframe before plotting\n",
        "    if \"eval_accuracy\" in log_emotion_t5.columns:\n",
        "        plt.plot(log_emotion_t5[\"epoch\"], log_emotion_t5[\"eval_accuracy\"], label=\"Doğrulama Doğruluğu\")\n",
        "    plt.title(\"T5 - Emotion Eğitim Grafiği\")\n",
        "    plt.xlabel(\"Epoch\")\n",
        "    plt.legend()\n",
        "    plt.show()"
      ]
    }
  ],
  "metadata": {
    "accelerator": "GPU",
    "colab": {
      "gpuType": "T4",
      "provenance": [],
      "authorship_tag": "ABX9TyOjxsM9++UHeqIz2citRm8e",
      "include_colab_link": true
    },
    "kernelspec": {
      "display_name": "Python 3",
      "name": "python3"
    },
    "language_info": {
      "name": "python"
    }
  },
  "nbformat": 4,
  "nbformat_minor": 0
}